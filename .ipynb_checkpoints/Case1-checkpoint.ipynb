{
 "cells": [
  {
   "cell_type": "markdown",
   "id": "77b00069-2207-4990-967e-3fc088e83109",
   "metadata": {},
   "source": [
    "# Case I : Video Streaming Services\n",
    "Pertemuan 13 - 14\n",
    "Python - Sekolah Data - Pacmann Academy"
   ]
  },
  {
   "cell_type": "markdown",
   "id": "5152b32e-58bd-468e-acc6-274c13233bd2",
   "metadata": {
    "tags": []
   },
   "source": [
    "## Table Plan"
   ]
  },
  {
   "cell_type": "markdown",
   "id": "7aaa1955-0186-4a3e-908c-7ed15bff78b8",
   "metadata": {},
   "source": [
    "| **Basic Plan**       | **Standard Plan**                                       | **Premium Plan**                                               | **Services**   |\n",
    "|----------------------|---------------------------------------------------------|----------------------------------------------------------------|----------------|\n",
    "| ✓                    | ✓                                                       | ✓                                                              | can_stream     |\n",
    "| ✓                    | ✓                                                       | ✓                                                              | can_download   |\n",
    "| ✓                    | ✓                                                       | ✓                                                              | has_SD         |\n",
    "|                      | ✓                                                       | ✓                                                              | has_HD         |\n",
    "|                      |                                                         | ✓                                                              | has_UHD        |\n",
    "| 1                    | 2                                                       | 4                                                              | num_of_devices |\n",
    "| 3rd party movie only | Basic Plan Content + Sports  (F1, Football, Basketball) | Basic Plan + Standard Plan +  PacFlix Original Series or Movie | content        |\n",
    "| Rp 120.000,-         | Rp 160.000,-                                            | Rp 200.000,-                                                   | price          |"
   ]
  },
  {
   "cell_type": "markdown",
   "id": "81b7eb93-8f7b-41db-9a4e-2e4528564d71",
   "metadata": {},
   "source": [
    "## Features List yang dibutuhkan\n",
    "- [ ] `check_benefit()` --> tampilkan semua benefit\n",
    "- [ ] `check_plan(username)` --> tampilkan benefit yang didapatkan dan udah langganan berapa lama (done)\n",
    "- [ ] `upgrade_plan(username, current_plan, new_plan)` --> harga final, if langganan > 12 bulan akan dapet diskon 5% \n",
    "- [ ] `pick_plan(new_plan, code_referral)` --> untuk new user, harga final kalo pake kode referral dapet diskon 4% "
   ]
  },
  {
   "cell_type": "markdown",
   "id": "a39e5bb9-17ae-4634-a54a-f27b0df3effc",
   "metadata": {},
   "source": [
    "- Untuk mempermudah membuat tabel untuk `check_benefit()` kita bisa menggunakan library `tabulate`\n",
    "- [Referensi 1](https://pypi.org/project/tabulate/)\n",
    "- [Referensi 2](https://www.askpython.com/python-modules/tabulate-tables-in-python)"
   ]
  },
  {
   "cell_type": "code",
   "execution_count": 2,
   "id": "6c3b3543-53ba-431b-b314-286f0b7d9ac6",
   "metadata": {
    "tags": []
   },
   "outputs": [],
   "source": [
    "# import library\n",
    "from tabulate import tabulate"
   ]
  },
  {
   "cell_type": "markdown",
   "id": "c7c84f32-4ca4-455e-a64c-23aace11b14b",
   "metadata": {},
   "source": [
    "### Create Data"
   ]
  },
  {
   "cell_type": "code",
   "execution_count": 3,
   "id": "26268c65-c578-496a-81b3-ee753c7398e3",
   "metadata": {
    "tags": []
   },
   "outputs": [],
   "source": [
    "# tinggal di run saja\n",
    "data = {\n",
    "    \"Shandy\": [\"Basic Plan\", 12, \"shandy-2134\"],\n",
    "    \"Cahya\": [\"Standard Plan\", 24, \"cahya-abcd\"],\n",
    "    \"Ana\": [\"Premium Plan\", 5, \"ana-2f9g\"],\n",
    "    \"Bagus\": [\"Basic Plan\", 11, \"bagus-9f92\"]\n",
    "}"
   ]
  },
  {
   "cell_type": "markdown",
   "id": "5af4ebcd-134e-4696-9889-42a6c4f43cd4",
   "metadata": {},
   "source": [
    "#### Create User Class"
   ]
  },
  {
   "cell_type": "code",
   "execution_count": 4,
   "id": "44510923-5f8c-48e4-8be2-df2dac198b61",
   "metadata": {
    "tags": []
   },
   "outputs": [],
   "source": [
    "# isilah titik - titik di bawah ini\n",
    "..."
   ]
  },
  {
   "cell_type": "markdown",
   "id": "023fedce-6e8a-4071-966f-0caf366f4a2b",
   "metadata": {
    "tags": []
   },
   "source": [
    "#### Create Object for User Class "
   ]
  },
  {
   "cell_type": "code",
   "execution_count": 7,
   "id": "6ad0f81c-49e0-4463-a958-5004d6fb3f0c",
   "metadata": {
    "tags": []
   },
   "outputs": [],
   "source": [
    "# user_1 = User(\"Shandy\", 12, \"Basic Plan\")"
   ]
  },
  {
   "cell_type": "code",
   "execution_count": null,
   "id": "159a6709-16a1-4845-a4b5-447210c4eb91",
   "metadata": {},
   "outputs": [],
   "source": [
    "# check attribute in Class\n",
    "user_1.username, user_1.duration_plan, user_1.current_plan"
   ]
  },
  {
   "cell_type": "markdown",
   "id": "5ed6694a-3702-4b64-936e-9e66e4120183",
   "metadata": {},
   "source": [
    "### Test Case 1 "
   ]
  },
  {
   "cell_type": "code",
   "execution_count": 8,
   "id": "0db9ac2a-0845-4ce5-9625-3e0aacf875ca",
   "metadata": {
    "tags": []
   },
   "outputs": [],
   "source": [
    "# isi titik - titik di bawah ini\n",
    "..."
   ]
  },
  {
   "cell_type": "markdown",
   "id": "aa7bd646-3093-4f44-aa2e-7449578a4c0e",
   "metadata": {
    "tags": []
   },
   "source": [
    "### Test Case 2"
   ]
  },
  {
   "cell_type": "code",
   "execution_count": 10,
   "id": "1915904c-9f54-4684-b515-b5d6963e4ed2",
   "metadata": {
    "tags": []
   },
   "outputs": [],
   "source": [
    "# isi titik - titik di bawah ini\n",
    "..."
   ]
  },
  {
   "cell_type": "markdown",
   "id": "458cd3d2-1dcb-489a-b6e0-001765d0a605",
   "metadata": {
    "tags": []
   },
   "source": [
    "### Test Case 3 "
   ]
  },
  {
   "cell_type": "code",
   "execution_count": null,
   "id": "4c09f145-dca9-48c2-a338-1ffdeb748b94",
   "metadata": {},
   "outputs": [],
   "source": [
    "# isi titik - titik di bawah ini\n",
    "..."
   ]
  },
  {
   "cell_type": "markdown",
   "id": "e27f6952-9c19-4b4e-bae3-2c567eaa4ba0",
   "metadata": {},
   "source": [
    "#### Testing with another Object "
   ]
  },
  {
   "cell_type": "code",
   "execution_count": null,
   "id": "27f97c8a-cd7e-4089-8a4f-7fddbbffebee",
   "metadata": {},
   "outputs": [],
   "source": [
    "user_2 = User(\"Cahya\", 24, \"Standard Plan\")"
   ]
  },
  {
   "cell_type": "code",
   "execution_count": null,
   "id": "c4d0c16e-dac0-4960-a432-b565c3abdeff",
   "metadata": {},
   "outputs": [],
   "source": [
    "# isi titik - titik di bawah ini\n",
    "..."
   ]
  },
  {
   "cell_type": "code",
   "execution_count": null,
   "id": "3a6d6a5c-df64-4518-8f0c-d6140a270aa6",
   "metadata": {},
   "outputs": [],
   "source": [
    "# isi titik - titik di bawah ini\n",
    "..."
   ]
  },
  {
   "cell_type": "code",
   "execution_count": null,
   "id": "be4b3c0c-8687-4ff7-b35d-bceb048fde47",
   "metadata": {},
   "outputs": [],
   "source": [
    "# isi titik - titik di bawah ini\n",
    "..."
   ]
  },
  {
   "cell_type": "markdown",
   "id": "d8e4ecef-cc13-4108-80cc-d7396d804273",
   "metadata": {},
   "source": [
    "### Create New User Object "
   ]
  },
  {
   "cell_type": "code",
   "execution_count": 12,
   "id": "0a9b2bf1-97b7-4937-901e-dbf859e362b1",
   "metadata": {
    "tags": []
   },
   "outputs": [],
   "source": [
    "# isi titik - titik di bawah ini\n",
    "..."
   ]
  },
  {
   "cell_type": "markdown",
   "id": "f81fd014-4240-4f15-b0ad-95e3d14f1d7a",
   "metadata": {
    "tags": []
   },
   "source": [
    "#### Create Object for NewUser Class"
   ]
  },
  {
   "cell_type": "code",
   "execution_count": null,
   "id": "96d54f80-1e52-41ce-a03c-f64812de27ce",
   "metadata": {},
   "outputs": [],
   "source": [
    "faizal = NewUser(\"faizal_icikiwir\")"
   ]
  },
  {
   "cell_type": "markdown",
   "id": "ab4b66e9-a40b-4ca1-92ca-aa4a3464fd48",
   "metadata": {},
   "source": [
    "#### Convert Data to List "
   ]
  },
  {
   "cell_type": "markdown",
   "id": "3886ae8d-fc7c-43bc-adae-2333d04ea84e",
   "metadata": {},
   "source": [
    "### Test Case 4 "
   ]
  },
  {
   "cell_type": "code",
   "execution_count": 12,
   "id": "616e8a2a-5cd8-4233-9fbb-0455d559a8a4",
   "metadata": {
    "tags": []
   },
   "outputs": [],
   "source": [
    "# isi titik - titik di bawah ini\n",
    "..."
   ]
  },
  {
   "cell_type": "code",
   "execution_count": 12,
   "id": "aac1089a-dfc0-41e8-b770-1bfe6a2a45e7",
   "metadata": {
    "tags": []
   },
   "outputs": [],
   "source": [
    "# isi titik - titik di bawah ini\n",
    "..."
   ]
  }
 ],
 "metadata": {
  "kernelspec": {
   "display_name": "Python 3 (ipykernel)",
   "language": "python",
   "name": "python3"
  },
  "language_info": {
   "codemirror_mode": {
    "name": "ipython",
    "version": 3
   },
   "file_extension": ".py",
   "mimetype": "text/x-python",
   "name": "python",
   "nbconvert_exporter": "python",
   "pygments_lexer": "ipython3",
   "version": "3.11.5"
  }
 },
 "nbformat": 4,
 "nbformat_minor": 5
}
